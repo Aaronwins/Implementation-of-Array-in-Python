{
  "nbformat": 4,
  "nbformat_minor": 0,
  "metadata": {
    "colab": {
      "provenance": []
    },
    "kernelspec": {
      "name": "python3",
      "display_name": "Python 3"
    },
    "language_info": {
      "name": "python"
    }
  },
  "cells": [
    {
      "cell_type": "code",
      "execution_count": null,
      "metadata": {
        "colab": {
          "base_uri": "https://localhost:8080/"
        },
        "id": "5VQMokxI__sy",
        "outputId": "8c8270d0-9e5d-40a6-cf34-b244d8213e2b"
      },
      "outputs": [
        {
          "output_type": "stream",
          "name": "stdout",
          "text": [
            "1\n",
            "2\n",
            "3\n",
            "4\n",
            "5\n"
          ]
        }
      ],
      "source": [
        "from Array import Array\n",
        "a = Array(5)\n",
        "#create array of size 5\n",
        "for i in range(len(a)):\n",
        "  a[i] = i+1\n",
        "for item in a:\n",
        "  print(item)"
      ]
    }
  ]
}